{
 "cells": [
  {
   "cell_type": "code",
   "execution_count": 38,
   "metadata": {},
   "outputs": [],
   "source": [
    "import copy\n",
    "\n",
    "import polars as pl\n",
    "import polars.selectors as cs\n",
    "\n",
    "import seaborn as sns\n",
    "import numpy as np\n",
    "import matplotlib.pyplot as plt\n",
    "\n",
    "from sklearn.linear_model import LinearRegression\n",
    "from sklearn.pipeline import Pipeline\n",
    "from sklearn.preprocessing import StandardScaler, MinMaxScaler\n",
    "from sklearn.impute import SimpleImputer\n",
    "from sklearn.ensemble import RandomForestRegressor\n",
    "from sklearn.compose import TransformedTargetRegressor\n",
    "\n",
    "from modules.utils import data_utils\n",
    "from modules.types.constants_sedds import FeatureCategory"
   ]
  },
  {
   "cell_type": "markdown",
   "metadata": {},
   "source": [
    "# Exploratory analysis of Size"
   ]
  },
  {
   "cell_type": "markdown",
   "metadata": {},
   "source": [
    "- The following exploratory analysis of size is performed with the goal of learning about the potential absorption of the resulting SEDDS formulation.\n",
    "\n",
    "- Based on the data it seems tha most important features are content of drug and other excipients as well as the sedds formulation has bigger chance to progress into further study if particle size of SEDDS is smaller.\n",
    "\n",
    "- Note: Previous template of PDI analysis is used."
   ]
  },
  {
   "cell_type": "code",
   "execution_count": 25,
   "metadata": {},
   "outputs": [
    {
     "data": {
      "text/plain": [
       "['size', 'PDI', 'cplx_minmax_norm', 'progressed']"
      ]
     },
     "execution_count": 25,
     "metadata": {},
     "output_type": "execute_result"
    }
   ],
   "source": [
    "sedds_features = copy.copy(FeatureCategory.SEDDS.value)\n",
    "sedds_features"
   ]
  },
  {
   "cell_type": "code",
   "execution_count": 26,
   "metadata": {},
   "outputs": [],
   "source": [
    "target = 'size'\n",
    "progressed = 'progressed'"
   ]
  },
  {
   "cell_type": "code",
   "execution_count": 27,
   "metadata": {},
   "outputs": [],
   "source": [
    "sedds_features.remove(target)\n",
    "unvailable_input = sedds_features"
   ]
  },
  {
   "cell_type": "code",
   "execution_count": 28,
   "metadata": {},
   "outputs": [],
   "source": [
    "data = data_utils.load_data()"
   ]
  },
  {
   "cell_type": "code",
   "execution_count": 19,
   "metadata": {},
   "outputs": [
    {
     "data": {
      "text/html": [
       "<div><style>\n",
       ".dataframe > thead > tr,\n",
       ".dataframe > tbody > tr {\n",
       "  text-align: right;\n",
       "  white-space: pre-wrap;\n",
       "}\n",
       "</style>\n",
       "<small>shape: (668, 29)</small><table border=\"1\" class=\"dataframe\"><thead><tr><th>progressed</th><th>size</th><th>PDI</th><th>API_prop</th><th>oil_total</th><th>surfactant_total</th><th>cosolvent_total</th><th>other_total</th><th>o_num</th><th>s_num</th><th>c_num</th><th>other_num</th><th>cplx_minmax_norm</th><th>API_mol_wt</th><th>logp_chemaxon</th><th>API_melt_temp</th><th>API_water_sol</th><th>API_polar_sa</th><th>API_rot_bond</th><th>API_H_bond_donor</th><th>API_H_bond_accept</th><th>o_LC</th><th>o_sat</th><th>s_HLB</th><th>c_mol_wt</th><th>c_melt_temp</th><th>c_boil_temp</th><th>c_density</th><th>c_viscosity</th></tr><tr><td>cat</td><td>f32</td><td>f32</td><td>f32</td><td>f32</td><td>f32</td><td>f32</td><td>f32</td><td>f32</td><td>f32</td><td>f32</td><td>f32</td><td>f32</td><td>f32</td><td>f32</td><td>f32</td><td>f32</td><td>f32</td><td>f32</td><td>f32</td><td>f32</td><td>cat</td><td>cat</td><td>f32</td><td>f32</td><td>f32</td><td>f32</td><td>f32</td><td>f32</td></tr></thead><tbody><tr><td>&quot;0&quot;</td><td>194.699997</td><td>0.231</td><td>19.049999</td><td>42.860001</td><td>38.099998</td><td>0.0</td><td>0.0</td><td>1.0</td><td>2.0</td><td>0.0</td><td>0.0</td><td>0.125</td><td>314.470001</td><td>6.33</td><td>67.0</td><td>0.0126</td><td>40.459999</td><td>6.0</td><td>2.0</td><td>2.0</td><td>&quot;0&quot;</td><td>&quot;1&quot;</td><td>11.5</td><td>0.0</td><td>0.0</td><td>0.0</td><td>0.0</td><td>0.0</td></tr><tr><td>&quot;0&quot;</td><td>194.0</td><td>0.268</td><td>18.18</td><td>45.450001</td><td>36.360001</td><td>0.0</td><td>0.0</td><td>1.0</td><td>2.0</td><td>0.0</td><td>0.0</td><td>0.125</td><td>314.470001</td><td>6.33</td><td>67.0</td><td>0.0126</td><td>40.459999</td><td>6.0</td><td>2.0</td><td>2.0</td><td>&quot;0&quot;</td><td>&quot;1&quot;</td><td>11.5</td><td>0.0</td><td>0.0</td><td>0.0</td><td>0.0</td><td>0.0</td></tr><tr><td>&quot;0&quot;</td><td>171.100006</td><td>0.232</td><td>17.389999</td><td>47.830002</td><td>34.779999</td><td>0.0</td><td>0.0</td><td>1.0</td><td>2.0</td><td>0.0</td><td>0.0</td><td>0.125</td><td>314.470001</td><td>6.33</td><td>67.0</td><td>0.0126</td><td>40.459999</td><td>6.0</td><td>2.0</td><td>2.0</td><td>&quot;0&quot;</td><td>&quot;1&quot;</td><td>11.5</td><td>0.0</td><td>0.0</td><td>0.0</td><td>0.0</td><td>0.0</td></tr><tr><td>&quot;0&quot;</td><td>182.699997</td><td>0.204</td><td>18.18</td><td>40.91</td><td>40.91</td><td>0.0</td><td>0.0</td><td>1.0</td><td>2.0</td><td>0.0</td><td>0.0</td><td>0.125</td><td>314.470001</td><td>6.33</td><td>67.0</td><td>0.0126</td><td>40.459999</td><td>6.0</td><td>2.0</td><td>2.0</td><td>&quot;0&quot;</td><td>&quot;1&quot;</td><td>11.5</td><td>0.0</td><td>0.0</td><td>0.0</td><td>0.0</td><td>0.0</td></tr><tr><td>&quot;1&quot;</td><td>201.800003</td><td>0.277</td><td>17.389999</td><td>43.48</td><td>39.130001</td><td>0.0</td><td>0.0</td><td>1.0</td><td>2.0</td><td>0.0</td><td>0.0</td><td>0.125</td><td>314.470001</td><td>6.33</td><td>67.0</td><td>0.0126</td><td>40.459999</td><td>6.0</td><td>2.0</td><td>2.0</td><td>&quot;0&quot;</td><td>&quot;1&quot;</td><td>11.5</td><td>0.0</td><td>0.0</td><td>0.0</td><td>0.0</td><td>0.0</td></tr><tr><td>&hellip;</td><td>&hellip;</td><td>&hellip;</td><td>&hellip;</td><td>&hellip;</td><td>&hellip;</td><td>&hellip;</td><td>&hellip;</td><td>&hellip;</td><td>&hellip;</td><td>&hellip;</td><td>&hellip;</td><td>&hellip;</td><td>&hellip;</td><td>&hellip;</td><td>&hellip;</td><td>&hellip;</td><td>&hellip;</td><td>&hellip;</td><td>&hellip;</td><td>&hellip;</td><td>&hellip;</td><td>&hellip;</td><td>&hellip;</td><td>&hellip;</td><td>&hellip;</td><td>&hellip;</td><td>&hellip;</td><td>&hellip;</td></tr><tr><td>&quot;0&quot;</td><td>166.0</td><td>0.33</td><td>0.116</td><td>31.459999</td><td>31.459999</td><td>6.99</td><td>29.969999</td><td>1.0</td><td>1.0</td><td>1.0</td><td>1.0</td><td>0.25</td><td>924.078979</td><td>-2.3</td><td>170.0</td><td>0.0819</td><td>319.609985</td><td>3.0</td><td>12.0</td><td>17.0</td><td>&quot;0&quot;</td><td>&quot;1&quot;</td><td>15.0</td><td>76.099998</td><td>-59.0</td><td>188.199997</td><td>1.0</td><td>56.0</td></tr><tr><td>&quot;0&quot;</td><td>118.0</td><td>0.36</td><td>0.104</td><td>31.469999</td><td>31.469999</td><td>6.99</td><td>29.969999</td><td>1.0</td><td>1.0</td><td>1.0</td><td>1.0</td><td>0.25</td><td>924.078979</td><td>-2.3</td><td>170.0</td><td>0.0819</td><td>319.609985</td><td>3.0</td><td>12.0</td><td>17.0</td><td>&quot;0&quot;</td><td>&quot;1&quot;</td><td>15.0</td><td>76.099998</td><td>-59.0</td><td>188.199997</td><td>1.0</td><td>56.0</td></tr><tr><td>&quot;1&quot;</td><td>150.0</td><td>0.27</td><td>0.169</td><td>31.450001</td><td>31.450001</td><td>6.99</td><td>29.950001</td><td>1.0</td><td>1.0</td><td>1.0</td><td>1.0</td><td>0.25</td><td>924.078979</td><td>-2.3</td><td>170.0</td><td>0.0819</td><td>319.609985</td><td>3.0</td><td>12.0</td><td>17.0</td><td>&quot;0&quot;</td><td>&quot;1&quot;</td><td>15.0</td><td>76.099998</td><td>-59.0</td><td>188.199997</td><td>1.0</td><td>56.0</td></tr><tr><td>&quot;0&quot;</td><td>400.0</td><td>null</td><td>0.5</td><td>49.75</td><td>49.75</td><td>0.0</td><td>0.0</td><td>1.0</td><td>1.0</td><td>0.0</td><td>0.0</td><td>0.0</td><td>924.078979</td><td>-2.3</td><td>170.0</td><td>0.0819</td><td>319.609985</td><td>3.0</td><td>12.0</td><td>17.0</td><td>&quot;1&quot;</td><td>&quot;0&quot;</td><td>14.0</td><td>0.0</td><td>0.0</td><td>0.0</td><td>0.0</td><td>0.0</td></tr><tr><td>&quot;0&quot;</td><td>400.0</td><td>null</td><td>0.5</td><td>59.700001</td><td>39.799999</td><td>0.0</td><td>0.0</td><td>1.0</td><td>1.0</td><td>0.0</td><td>0.0</td><td>0.0</td><td>924.078979</td><td>-2.3</td><td>170.0</td><td>0.0819</td><td>319.609985</td><td>3.0</td><td>12.0</td><td>17.0</td><td>&quot;1&quot;</td><td>&quot;0&quot;</td><td>14.0</td><td>0.0</td><td>0.0</td><td>0.0</td><td>0.0</td><td>0.0</td></tr></tbody></table></div>"
      ],
      "text/plain": [
       "shape: (668, 29)\n",
       "┌────────────┬────────────┬───────┬───────────┬───┬────────────┬───────────┬───────────┬───────────┐\n",
       "│ progressed ┆ size       ┆ PDI   ┆ API_prop  ┆ … ┆ c_melt_tem ┆ c_boil_te ┆ c_density ┆ c_viscosi │\n",
       "│ ---        ┆ ---        ┆ ---   ┆ ---       ┆   ┆ p          ┆ mp        ┆ ---       ┆ ty        │\n",
       "│ cat        ┆ f32        ┆ f32   ┆ f32       ┆   ┆ ---        ┆ ---       ┆ f32       ┆ ---       │\n",
       "│            ┆            ┆       ┆           ┆   ┆ f32        ┆ f32       ┆           ┆ f32       │\n",
       "╞════════════╪════════════╪═══════╪═══════════╪═══╪════════════╪═══════════╪═══════════╪═══════════╡\n",
       "│ 0          ┆ 194.699997 ┆ 0.231 ┆ 19.049999 ┆ … ┆ 0.0        ┆ 0.0       ┆ 0.0       ┆ 0.0       │\n",
       "│ 0          ┆ 194.0      ┆ 0.268 ┆ 18.18     ┆ … ┆ 0.0        ┆ 0.0       ┆ 0.0       ┆ 0.0       │\n",
       "│ 0          ┆ 171.100006 ┆ 0.232 ┆ 17.389999 ┆ … ┆ 0.0        ┆ 0.0       ┆ 0.0       ┆ 0.0       │\n",
       "│ 0          ┆ 182.699997 ┆ 0.204 ┆ 18.18     ┆ … ┆ 0.0        ┆ 0.0       ┆ 0.0       ┆ 0.0       │\n",
       "│ 1          ┆ 201.800003 ┆ 0.277 ┆ 17.389999 ┆ … ┆ 0.0        ┆ 0.0       ┆ 0.0       ┆ 0.0       │\n",
       "│ …          ┆ …          ┆ …     ┆ …         ┆ … ┆ …          ┆ …         ┆ …         ┆ …         │\n",
       "│ 0          ┆ 166.0      ┆ 0.33  ┆ 0.116     ┆ … ┆ -59.0      ┆ 188.19999 ┆ 1.0       ┆ 56.0      │\n",
       "│            ┆            ┆       ┆           ┆   ┆            ┆ 7         ┆           ┆           │\n",
       "│ 0          ┆ 118.0      ┆ 0.36  ┆ 0.104     ┆ … ┆ -59.0      ┆ 188.19999 ┆ 1.0       ┆ 56.0      │\n",
       "│            ┆            ┆       ┆           ┆   ┆            ┆ 7         ┆           ┆           │\n",
       "│ 1          ┆ 150.0      ┆ 0.27  ┆ 0.169     ┆ … ┆ -59.0      ┆ 188.19999 ┆ 1.0       ┆ 56.0      │\n",
       "│            ┆            ┆       ┆           ┆   ┆            ┆ 7         ┆           ┆           │\n",
       "│ 0          ┆ 400.0      ┆ null  ┆ 0.5       ┆ … ┆ 0.0        ┆ 0.0       ┆ 0.0       ┆ 0.0       │\n",
       "│ 0          ┆ 400.0      ┆ null  ┆ 0.5       ┆ … ┆ 0.0        ┆ 0.0       ┆ 0.0       ┆ 0.0       │\n",
       "└────────────┴────────────┴───────┴───────────┴───┴────────────┴───────────┴───────────┴───────────┘"
      ]
     },
     "execution_count": 19,
     "metadata": {},
     "output_type": "execute_result"
    }
   ],
   "source": [
    "data"
   ]
  },
  {
   "cell_type": "code",
   "execution_count": 20,
   "metadata": {},
   "outputs": [
    {
     "data": {
      "text/html": [
       "<div><style>\n",
       ".dataframe > thead > tr,\n",
       ".dataframe > tbody > tr {\n",
       "  text-align: right;\n",
       "  white-space: pre-wrap;\n",
       "}\n",
       "</style>\n",
       "<small>shape: (9, 3)</small><table border=\"1\" class=\"dataframe\"><thead><tr><th>statistic</th><th>size</th><th>progressed</th></tr><tr><td>str</td><td>f64</td><td>str</td></tr></thead><tbody><tr><td>&quot;count&quot;</td><td>506.0</td><td>&quot;506&quot;</td></tr><tr><td>&quot;null_count&quot;</td><td>0.0</td><td>&quot;0&quot;</td></tr><tr><td>&quot;mean&quot;</td><td>140.205658</td><td>null</td></tr><tr><td>&quot;std&quot;</td><td>304.983734</td><td>null</td></tr><tr><td>&quot;min&quot;</td><td>7.2</td><td>null</td></tr><tr><td>&quot;25%&quot;</td><td>31.9</td><td>null</td></tr><tr><td>&quot;50%&quot;</td><td>76.529999</td><td>null</td></tr><tr><td>&quot;75%&quot;</td><td>170.699997</td><td>null</td></tr><tr><td>&quot;max&quot;</td><td>4964.0</td><td>null</td></tr></tbody></table></div>"
      ],
      "text/plain": [
       "shape: (9, 3)\n",
       "┌────────────┬────────────┬────────────┐\n",
       "│ statistic  ┆ size       ┆ progressed │\n",
       "│ ---        ┆ ---        ┆ ---        │\n",
       "│ str        ┆ f64        ┆ str        │\n",
       "╞════════════╪════════════╪════════════╡\n",
       "│ count      ┆ 506.0      ┆ 506        │\n",
       "│ null_count ┆ 0.0        ┆ 0          │\n",
       "│ mean       ┆ 140.205658 ┆ null       │\n",
       "│ std        ┆ 304.983734 ┆ null       │\n",
       "│ min        ┆ 7.2        ┆ null       │\n",
       "│ 25%        ┆ 31.9       ┆ null       │\n",
       "│ 50%        ┆ 76.529999  ┆ null       │\n",
       "│ 75%        ┆ 170.699997 ┆ null       │\n",
       "│ max        ┆ 4964.0     ┆ null       │\n",
       "└────────────┴────────────┴────────────┘"
      ]
     },
     "execution_count": 20,
     "metadata": {},
     "output_type": "execute_result"
    }
   ],
   "source": [
    "data_size_progressed = ( data\n",
    "    .drop('PDI') # removing PDI because of large count of null values           \n",
    "    .select([target, progressed])\n",
    "    .drop_nulls()\n",
    ")\n",
    "data_size_progressed.describe()\n"
   ]
  },
  {
   "cell_type": "code",
   "execution_count": 40,
   "metadata": {},
   "outputs": [
    {
     "data": {
      "image/png": "[encoded data removed]",
      "text/plain": [
       "<Figure size 640x480 with 1 Axes>"
      ]
     },
     "metadata": {},
     "output_type": "display_data"
    }
   ],
   "source": [
    "fig, ax = plt.subplots()\n",
    "unique_categories = data_size_progressed[progressed].unique().to_list()\n",
    "list(map(lambda category: ax.scatter(\n",
    "    data_size_progressed.filter(pl.col(progressed) == category)[target].to_numpy(), \n",
    "    [category] * len(data_size_progressed.filter(pl.col(progressed) == category)), \n",
    "    label=f'Progressed: {category}'\n",
    "), unique_categories))\n",
    "ax.set_xlabel('size')\n",
    "ax.set_ylabel('Progressed Category')\n",
    "ax.set_title('Scatter Plot of Size vs Progressed Category')\n",
    "ax.legend()\n",
    "plt.show()"
   ]
  },
  {
   "cell_type": "code",
   "execution_count": 22,
   "metadata": {},
   "outputs": [
    {
     "data": {
      "text/plain": [
       "<Axes: ylabel='Count'>"
      ]
     },
     "execution_count": 22,
     "metadata": {},
     "output_type": "execute_result"
    },
    {
     "data": {
      "image/png": "[encoded data removed]",
      "text/plain": [
       "<Figure size 640x480 with 1 Axes>"
      ]
     },
     "metadata": {},
     "output_type": "display_data"
    }
   ],
   "source": [
    "sns.histplot(data['size']) "
   ]
  },
  {
   "cell_type": "markdown",
   "metadata": {},
   "source": [
    "- Few outliers, such SEDDS formulations did not progress.\n"
   ]
  },
  {
   "cell_type": "code",
   "execution_count": 29,
   "metadata": {},
   "outputs": [],
   "source": [
    "data = (data\n",
    " .drop(unvailable_input)\n",
    " .drop_nulls()\n",
    ")"
   ]
  },
  {
   "cell_type": "code",
   "execution_count": 30,
   "metadata": {},
   "outputs": [
    {
     "data": {
      "text/html": [
       "<div><style>\n",
       ".dataframe > thead > tr,\n",
       ".dataframe > tbody > tr {\n",
       "  text-align: right;\n",
       "  white-space: pre-wrap;\n",
       "}\n",
       "</style>\n",
       "<small>shape: (9, 27)</small><table border=\"1\" class=\"dataframe\"><thead><tr><th>statistic</th><th>size</th><th>API_prop</th><th>oil_total</th><th>surfactant_total</th><th>cosolvent_total</th><th>other_total</th><th>o_num</th><th>s_num</th><th>c_num</th><th>other_num</th><th>API_mol_wt</th><th>logp_chemaxon</th><th>API_melt_temp</th><th>API_water_sol</th><th>API_polar_sa</th><th>API_rot_bond</th><th>API_H_bond_donor</th><th>API_H_bond_accept</th><th>o_LC</th><th>o_sat</th><th>s_HLB</th><th>c_mol_wt</th><th>c_melt_temp</th><th>c_boil_temp</th><th>c_density</th><th>c_viscosity</th></tr><tr><td>str</td><td>f64</td><td>f64</td><td>f64</td><td>f64</td><td>f64</td><td>f64</td><td>f64</td><td>f64</td><td>f64</td><td>f64</td><td>f64</td><td>f64</td><td>f64</td><td>f64</td><td>f64</td><td>f64</td><td>f64</td><td>f64</td><td>str</td><td>str</td><td>f64</td><td>f64</td><td>f64</td><td>f64</td><td>f64</td><td>f64</td></tr></thead><tbody><tr><td>&quot;count&quot;</td><td>506.0</td><td>506.0</td><td>506.0</td><td>506.0</td><td>506.0</td><td>506.0</td><td>506.0</td><td>506.0</td><td>506.0</td><td>506.0</td><td>506.0</td><td>506.0</td><td>506.0</td><td>506.0</td><td>506.0</td><td>506.0</td><td>506.0</td><td>506.0</td><td>&quot;506&quot;</td><td>&quot;506&quot;</td><td>506.0</td><td>506.0</td><td>506.0</td><td>506.0</td><td>506.0</td><td>506.0</td></tr><tr><td>&quot;null_count&quot;</td><td>0.0</td><td>0.0</td><td>0.0</td><td>0.0</td><td>0.0</td><td>0.0</td><td>0.0</td><td>0.0</td><td>0.0</td><td>0.0</td><td>0.0</td><td>0.0</td><td>0.0</td><td>0.0</td><td>0.0</td><td>0.0</td><td>0.0</td><td>0.0</td><td>&quot;0&quot;</td><td>&quot;0&quot;</td><td>0.0</td><td>0.0</td><td>0.0</td><td>0.0</td><td>0.0</td><td>0.0</td></tr><tr><td>&quot;mean&quot;</td><td>140.205658</td><td>6.377806</td><td>31.818943</td><td>46.476818</td><td>13.900208</td><td>1.427016</td><td>1.304348</td><td>1.332016</td><td>0.6917</td><td>0.100791</td><td>491.016418</td><td>4.568281</td><td>130.8004</td><td>0.044595</td><td>103.025551</td><td>8.640316</td><td>1.964427</td><td>4.891304</td><td>null</td><td>null</td><td>13.720553</td><td>87.813438</td><td>-44.76265</td><td>109.289925</td><td>0.630435</td><td>15.716996</td></tr><tr><td>&quot;std&quot;</td><td>304.983734</td><td>6.334651</td><td>19.091309</td><td>20.201708</td><td>16.186337</td><td>7.187721</td><td>0.505672</td><td>0.657359</td><td>0.541185</td><td>0.320457</td><td>227.214096</td><td>1.73998</td><td>47.916725</td><td>0.147836</td><td>74.261086</td><td>3.573427</td><td>2.102031</td><td>3.25881</td><td>null</td><td>null</td><td>2.332197</td><td>107.795876</td><td>46.003979</td><td>93.347572</td><td>0.465803</td><td>28.835617</td></tr><tr><td>&quot;min&quot;</td><td>7.2</td><td>0.06</td><td>0.0</td><td>0.0</td><td>0.0</td><td>0.0</td><td>0.0</td><td>0.0</td><td>0.0</td><td>0.0</td><td>206.289993</td><td>-2.3</td><td>59.5</td><td>0.00011</td><td>6.48</td><td>0.0</td><td>0.0</td><td>2.0</td><td>null</td><td>null</td><td>0.0</td><td>0.0</td><td>-114.099998</td><td>0.0</td><td>0.0</td><td>0.0</td></tr><tr><td>&quot;25%&quot;</td><td>31.9</td><td>2.0</td><td>14.78</td><td>31.450001</td><td>0.0</td><td>0.0</td><td>1.0</td><td>1.0</td><td>0.0</td><td>0.0</td><td>360.829987</td><td>3.54</td><td>80.5</td><td>0.00071</td><td>52.599998</td><td>7.0</td><td>1.0</td><td>3.0</td><td>null</td><td>null</td><td>13.0</td><td>0.0</td><td>-76.0</td><td>0.0</td><td>0.0</td><td>0.0</td></tr><tr><td>&quot;50%&quot;</td><td>76.529999</td><td>5.0</td><td>29.309999</td><td>45.0</td><td>9.5</td><td>0.0</td><td>1.0</td><td>1.0</td><td>1.0</td><td>0.0</td><td>418.559998</td><td>4.69</td><td>121.0</td><td>0.0122</td><td>112.07</td><td>7.0</td><td>1.0</td><td>3.0</td><td>null</td><td>null</td><td>14.5</td><td>46.099998</td><td>-50.0</td><td>78.400002</td><td>0.8</td><td>1.1</td></tr><tr><td>&quot;75%&quot;</td><td>170.699997</td><td>8.5</td><td>48.5</td><td>62.0</td><td>24.360001</td><td>0.0</td><td>2.0</td><td>2.0</td><td>1.0</td><td>0.0</td><td>500.423004</td><td>5.28</td><td>149.5</td><td>0.0234</td><td>120.0</td><td>11.0</td><td>3.0</td><td>6.0</td><td>null</td><td>null</td><td>15.0</td><td>134.199997</td><td>0.0</td><td>202.0</td><td>1.0</td><td>4.8</td></tr><tr><td>&quot;max&quot;</td><td>4964.0</td><td>52.700001</td><td>80.0</td><td>97.0</td><td>76.800003</td><td>68.040001</td><td>3.0</td><td>5.0</td><td>3.0</td><td>2.0</td><td>1202.609985</td><td>8.06</td><td>232.0</td><td>0.75</td><td>319.609985</td><td>18.0</td><td>12.0</td><td>17.0</td><td>null</td><td>null</td><td>16.9</td><td>600.0</td><td>32.5</td><td>261.200012</td><td>1.1</td><td>90.0</td></tr></tbody></table></div>"
      ],
      "text/plain": [
       "shape: (9, 27)\n",
       "┌───────────┬───────────┬───────────┬───────────┬───┬───────────┬───────────┬───────────┬──────────┐\n",
       "│ statistic ┆ size      ┆ API_prop  ┆ oil_total ┆ … ┆ c_melt_te ┆ c_boil_te ┆ c_density ┆ c_viscos │\n",
       "│ ---       ┆ ---       ┆ ---       ┆ ---       ┆   ┆ mp        ┆ mp        ┆ ---       ┆ ity      │\n",
       "│ str       ┆ f64       ┆ f64       ┆ f64       ┆   ┆ ---       ┆ ---       ┆ f64       ┆ ---      │\n",
       "│           ┆           ┆           ┆           ┆   ┆ f64       ┆ f64       ┆           ┆ f64      │\n",
       "╞═══════════╪═══════════╪═══════════╪═══════════╪═══╪═══════════╪═══════════╪═══════════╪══════════╡\n",
       "│ count     ┆ 506.0     ┆ 506.0     ┆ 506.0     ┆ … ┆ 506.0     ┆ 506.0     ┆ 506.0     ┆ 506.0    │\n",
       "│ null_coun ┆ 0.0       ┆ 0.0       ┆ 0.0       ┆ … ┆ 0.0       ┆ 0.0       ┆ 0.0       ┆ 0.0      │\n",
       "│ t         ┆           ┆           ┆           ┆   ┆           ┆           ┆           ┆          │\n",
       "│ mean      ┆ 140.20565 ┆ 6.377806  ┆ 31.818943 ┆ … ┆ -44.76265 ┆ 109.28992 ┆ 0.630435  ┆ 15.71699 │\n",
       "│           ┆ 8         ┆           ┆           ┆   ┆           ┆ 5         ┆           ┆ 6        │\n",
       "│ std       ┆ 304.98373 ┆ 6.334651  ┆ 19.091309 ┆ … ┆ 46.003979 ┆ 93.347572 ┆ 0.465803  ┆ 28.83561 │\n",
       "│           ┆ 4         ┆           ┆           ┆   ┆           ┆           ┆           ┆ 7        │\n",
       "│ min       ┆ 7.2       ┆ 0.06      ┆ 0.0       ┆ … ┆ -114.0999 ┆ 0.0       ┆ 0.0       ┆ 0.0      │\n",
       "│           ┆           ┆           ┆           ┆   ┆ 98        ┆           ┆           ┆          │\n",
       "│ 25%       ┆ 31.9      ┆ 2.0       ┆ 14.78     ┆ … ┆ -76.0     ┆ 0.0       ┆ 0.0       ┆ 0.0      │\n",
       "│ 50%       ┆ 76.529999 ┆ 5.0       ┆ 29.309999 ┆ … ┆ -50.0     ┆ 78.400002 ┆ 0.8       ┆ 1.1      │\n",
       "│ 75%       ┆ 170.69999 ┆ 8.5       ┆ 48.5      ┆ … ┆ 0.0       ┆ 202.0     ┆ 1.0       ┆ 4.8      │\n",
       "│           ┆ 7         ┆           ┆           ┆   ┆           ┆           ┆           ┆          │\n",
       "│ max       ┆ 4964.0    ┆ 52.700001 ┆ 80.0      ┆ … ┆ 32.5      ┆ 261.20001 ┆ 1.1       ┆ 90.0     │\n",
       "│           ┆           ┆           ┆           ┆   ┆           ┆ 2         ┆           ┆          │\n",
       "└───────────┴───────────┴───────────┴───────────┴───┴───────────┴───────────┴───────────┴──────────┘"
      ]
     },
     "execution_count": 30,
     "metadata": {},
     "output_type": "execute_result"
    }
   ],
   "source": [
    "data.describe()"
   ]
  },
  {
   "cell_type": "code",
   "execution_count": 31,
   "metadata": {},
   "outputs": [],
   "source": [
    "linear_models = {\n",
    "    'linreg': Pipeline([\n",
    "        ('fillna', SimpleImputer(strategy=\"median\")),\n",
    "        ('sc', MinMaxScaler()), \n",
    "        ('linreg', LinearRegression())\n",
    "    ]),\n",
    "    'rf': Pipeline([\n",
    "        ('fillna', SimpleImputer(strategy=\"median\")),\n",
    "        ('sc', StandardScaler()), \n",
    "        ('rf', RandomForestRegressor(n_estimators=100, random_state=42))\n",
    "    ]),\n",
    "}"
   ]
  },
  {
   "cell_type": "code",
   "execution_count": 32,
   "metadata": {},
   "outputs": [
    {
     "data": {
      "text/html": [
       "<div><style>\n",
       ".dataframe > thead > tr,\n",
       ".dataframe > tbody > tr {\n",
       "  text-align: right;\n",
       "  white-space: pre-wrap;\n",
       "}\n",
       "</style>\n",
       "<small>shape: (9, 27)</small><table border=\"1\" class=\"dataframe\"><thead><tr><th>statistic</th><th>size</th><th>API_prop</th><th>oil_total</th><th>surfactant_total</th><th>cosolvent_total</th><th>other_total</th><th>o_num</th><th>s_num</th><th>c_num</th><th>other_num</th><th>API_mol_wt</th><th>logp_chemaxon</th><th>API_melt_temp</th><th>API_water_sol</th><th>API_polar_sa</th><th>API_rot_bond</th><th>API_H_bond_donor</th><th>API_H_bond_accept</th><th>o_LC</th><th>o_sat</th><th>s_HLB</th><th>c_mol_wt</th><th>c_melt_temp</th><th>c_boil_temp</th><th>c_density</th><th>c_viscosity</th></tr><tr><td>str</td><td>f64</td><td>f64</td><td>f64</td><td>f64</td><td>f64</td><td>f64</td><td>f64</td><td>f64</td><td>f64</td><td>f64</td><td>f64</td><td>f64</td><td>f64</td><td>f64</td><td>f64</td><td>f64</td><td>f64</td><td>f64</td><td>str</td><td>str</td><td>f64</td><td>f64</td><td>f64</td><td>f64</td><td>f64</td><td>f64</td></tr></thead><tbody><tr><td>&quot;count&quot;</td><td>506.0</td><td>506.0</td><td>506.0</td><td>506.0</td><td>506.0</td><td>506.0</td><td>506.0</td><td>506.0</td><td>506.0</td><td>506.0</td><td>506.0</td><td>506.0</td><td>506.0</td><td>506.0</td><td>506.0</td><td>506.0</td><td>506.0</td><td>506.0</td><td>&quot;506&quot;</td><td>&quot;506&quot;</td><td>506.0</td><td>506.0</td><td>506.0</td><td>506.0</td><td>506.0</td><td>506.0</td></tr><tr><td>&quot;null_count&quot;</td><td>0.0</td><td>0.0</td><td>0.0</td><td>0.0</td><td>0.0</td><td>0.0</td><td>0.0</td><td>0.0</td><td>0.0</td><td>0.0</td><td>0.0</td><td>0.0</td><td>0.0</td><td>0.0</td><td>0.0</td><td>0.0</td><td>0.0</td><td>0.0</td><td>&quot;0&quot;</td><td>&quot;0&quot;</td><td>0.0</td><td>0.0</td><td>0.0</td><td>0.0</td><td>0.0</td><td>0.0</td></tr><tr><td>&quot;mean&quot;</td><td>140.205658</td><td>6.377806</td><td>31.818943</td><td>46.476818</td><td>13.900208</td><td>1.427016</td><td>1.304348</td><td>1.332016</td><td>0.6917</td><td>0.100791</td><td>491.016418</td><td>4.568281</td><td>130.8004</td><td>0.044595</td><td>103.025551</td><td>8.640316</td><td>1.964427</td><td>4.891304</td><td>null</td><td>null</td><td>13.720553</td><td>87.813438</td><td>-44.76265</td><td>109.289925</td><td>0.630435</td><td>15.716996</td></tr><tr><td>&quot;std&quot;</td><td>304.983734</td><td>6.334651</td><td>19.091309</td><td>20.201708</td><td>16.186337</td><td>7.187721</td><td>0.505672</td><td>0.657359</td><td>0.541185</td><td>0.320457</td><td>227.214096</td><td>1.73998</td><td>47.916725</td><td>0.147836</td><td>74.261086</td><td>3.573427</td><td>2.102031</td><td>3.25881</td><td>null</td><td>null</td><td>2.332197</td><td>107.795876</td><td>46.003979</td><td>93.347572</td><td>0.465803</td><td>28.835617</td></tr><tr><td>&quot;min&quot;</td><td>7.2</td><td>0.06</td><td>0.0</td><td>0.0</td><td>0.0</td><td>0.0</td><td>0.0</td><td>0.0</td><td>0.0</td><td>0.0</td><td>206.289993</td><td>-2.3</td><td>59.5</td><td>0.00011</td><td>6.48</td><td>0.0</td><td>0.0</td><td>2.0</td><td>null</td><td>null</td><td>0.0</td><td>0.0</td><td>-114.099998</td><td>0.0</td><td>0.0</td><td>0.0</td></tr><tr><td>&quot;25%&quot;</td><td>31.9</td><td>2.0</td><td>14.78</td><td>31.450001</td><td>0.0</td><td>0.0</td><td>1.0</td><td>1.0</td><td>0.0</td><td>0.0</td><td>360.829987</td><td>3.54</td><td>80.5</td><td>0.00071</td><td>52.599998</td><td>7.0</td><td>1.0</td><td>3.0</td><td>null</td><td>null</td><td>13.0</td><td>0.0</td><td>-76.0</td><td>0.0</td><td>0.0</td><td>0.0</td></tr><tr><td>&quot;50%&quot;</td><td>76.529999</td><td>5.0</td><td>29.309999</td><td>45.0</td><td>9.5</td><td>0.0</td><td>1.0</td><td>1.0</td><td>1.0</td><td>0.0</td><td>418.559998</td><td>4.69</td><td>121.0</td><td>0.0122</td><td>112.07</td><td>7.0</td><td>1.0</td><td>3.0</td><td>null</td><td>null</td><td>14.5</td><td>46.099998</td><td>-50.0</td><td>78.400002</td><td>0.8</td><td>1.1</td></tr><tr><td>&quot;75%&quot;</td><td>170.699997</td><td>8.5</td><td>48.5</td><td>62.0</td><td>24.360001</td><td>0.0</td><td>2.0</td><td>2.0</td><td>1.0</td><td>0.0</td><td>500.423004</td><td>5.28</td><td>149.5</td><td>0.0234</td><td>120.0</td><td>11.0</td><td>3.0</td><td>6.0</td><td>null</td><td>null</td><td>15.0</td><td>134.199997</td><td>0.0</td><td>202.0</td><td>1.0</td><td>4.8</td></tr><tr><td>&quot;max&quot;</td><td>4964.0</td><td>52.700001</td><td>80.0</td><td>97.0</td><td>76.800003</td><td>68.040001</td><td>3.0</td><td>5.0</td><td>3.0</td><td>2.0</td><td>1202.609985</td><td>8.06</td><td>232.0</td><td>0.75</td><td>319.609985</td><td>18.0</td><td>12.0</td><td>17.0</td><td>null</td><td>null</td><td>16.9</td><td>600.0</td><td>32.5</td><td>261.200012</td><td>1.1</td><td>90.0</td></tr></tbody></table></div>"
      ],
      "text/plain": [
       "shape: (9, 27)\n",
       "┌───────────┬───────────┬───────────┬───────────┬───┬───────────┬───────────┬───────────┬──────────┐\n",
       "│ statistic ┆ size      ┆ API_prop  ┆ oil_total ┆ … ┆ c_melt_te ┆ c_boil_te ┆ c_density ┆ c_viscos │\n",
       "│ ---       ┆ ---       ┆ ---       ┆ ---       ┆   ┆ mp        ┆ mp        ┆ ---       ┆ ity      │\n",
       "│ str       ┆ f64       ┆ f64       ┆ f64       ┆   ┆ ---       ┆ ---       ┆ f64       ┆ ---      │\n",
       "│           ┆           ┆           ┆           ┆   ┆ f64       ┆ f64       ┆           ┆ f64      │\n",
       "╞═══════════╪═══════════╪═══════════╪═══════════╪═══╪═══════════╪═══════════╪═══════════╪══════════╡\n",
       "│ count     ┆ 506.0     ┆ 506.0     ┆ 506.0     ┆ … ┆ 506.0     ┆ 506.0     ┆ 506.0     ┆ 506.0    │\n",
       "│ null_coun ┆ 0.0       ┆ 0.0       ┆ 0.0       ┆ … ┆ 0.0       ┆ 0.0       ┆ 0.0       ┆ 0.0      │\n",
       "│ t         ┆           ┆           ┆           ┆   ┆           ┆           ┆           ┆          │\n",
       "│ mean      ┆ 140.20565 ┆ 6.377806  ┆ 31.818943 ┆ … ┆ -44.76265 ┆ 109.28992 ┆ 0.630435  ┆ 15.71699 │\n",
       "│           ┆ 8         ┆           ┆           ┆   ┆           ┆ 5         ┆           ┆ 6        │\n",
       "│ std       ┆ 304.98373 ┆ 6.334651  ┆ 19.091309 ┆ … ┆ 46.003979 ┆ 93.347572 ┆ 0.465803  ┆ 28.83561 │\n",
       "│           ┆ 4         ┆           ┆           ┆   ┆           ┆           ┆           ┆ 7        │\n",
       "│ min       ┆ 7.2       ┆ 0.06      ┆ 0.0       ┆ … ┆ -114.0999 ┆ 0.0       ┆ 0.0       ┆ 0.0      │\n",
       "│           ┆           ┆           ┆           ┆   ┆ 98        ┆           ┆           ┆          │\n",
       "│ 25%       ┆ 31.9      ┆ 2.0       ┆ 14.78     ┆ … ┆ -76.0     ┆ 0.0       ┆ 0.0       ┆ 0.0      │\n",
       "│ 50%       ┆ 76.529999 ┆ 5.0       ┆ 29.309999 ┆ … ┆ -50.0     ┆ 78.400002 ┆ 0.8       ┆ 1.1      │\n",
       "│ 75%       ┆ 170.69999 ┆ 8.5       ┆ 48.5      ┆ … ┆ 0.0       ┆ 202.0     ┆ 1.0       ┆ 4.8      │\n",
       "│           ┆ 7         ┆           ┆           ┆   ┆           ┆           ┆           ┆          │\n",
       "│ max       ┆ 4964.0    ┆ 52.700001 ┆ 80.0      ┆ … ┆ 32.5      ┆ 261.20001 ┆ 1.1       ┆ 90.0     │\n",
       "│           ┆           ┆           ┆           ┆   ┆           ┆ 2         ┆           ┆          │\n",
       "└───────────┴───────────┴───────────┴───────────┴───┴───────────┴───────────┴───────────┴──────────┘"
      ]
     },
     "execution_count": 32,
     "metadata": {},
     "output_type": "execute_result"
    }
   ],
   "source": [
    "data.describe()"
   ]
  },
  {
   "cell_type": "code",
   "execution_count": 33,
   "metadata": {},
   "outputs": [],
   "source": [
    "from sklearn.model_selection import train_test_split\n",
    "\n",
    "X = data.drop([target] + unvailable_input).to_dummies(cs.categorical()).to_pandas()\n",
    "y = data[target].to_pandas()\n",
    "\n",
    "X_tr, X_ts, y_tr, y_ts = train_test_split(X, y, test_size=0.20, random_state=42)"
   ]
  },
  {
   "cell_type": "code",
   "execution_count": 34,
   "metadata": {},
   "outputs": [
    {
     "data": {
      "text/plain": [
       "0.04821122618152862"
      ]
     },
     "execution_count": 34,
     "metadata": {},
     "output_type": "execute_result"
    }
   ],
   "source": [
    "rf_model = linear_models.get('rf')\n",
    "rf_model.fit(X_tr, y_tr).score(X_ts, y_ts)\n"
   ]
  },
  {
   "cell_type": "code",
   "execution_count": 35,
   "metadata": {},
   "outputs": [
    {
     "data": {
      "text/plain": [
       "-0.05959438307313736"
      ]
     },
     "execution_count": 35,
     "metadata": {},
     "output_type": "execute_result"
    }
   ],
   "source": [
    "lin_reg = linear_models.get('linreg')\n",
    "lin_reg.fit(X_tr, y_tr).score(X_ts, y_ts)"
   ]
  },
  {
   "cell_type": "markdown",
   "metadata": {},
   "source": [
    "We will scale data in a range that models can learn."
   ]
  },
  {
   "cell_type": "code",
   "execution_count": 36,
   "metadata": {},
   "outputs": [],
   "source": [
    "t_lin_reg = TransformedTargetRegressor(\n",
    "    regressor=LinearRegression(), \n",
    "    func=np.log, \n",
    "    inverse_func=np.exp\n",
    ")"
   ]
  },
  {
   "cell_type": "code",
   "execution_count": 37,
   "metadata": {},
   "outputs": [
    {
     "name": "stderr",
     "output_type": "stream",
     "text": [
      "/Users/potato/Library/Caches/pypoetry/virtualenvs/sedds-analysis-sVmcoPsY-py3.12/lib/python3.12/site-packages/sklearn/preprocessing/_function_transformer.py:217: UserWarning: The provided functions are not strictly inverse of each other. If you are sure you want to proceed regardless, set 'check_inverse=False'.\n",
      "  warnings.warn(\n"
     ]
    },
    {
     "data": {
      "text/plain": [
       "-0.022194969316386315"
      ]
     },
     "execution_count": 37,
     "metadata": {},
     "output_type": "execute_result"
    }
   ],
   "source": [
    "t_lin_reg.fit(X_tr, y_tr).score(X_ts, y_ts)"
   ]
  }
 ],
 "metadata": {
  "kernelspec": {
   "display_name": "sedds-analysis-sVmcoPsY-py3.12",
   "language": "python",
   "name": "python3"
  },
  "language_info": {
   "codemirror_mode": {
    "name": "ipython",
    "version": 3
   },
   "file_extension": ".py",
   "mimetype": "text/x-python",
   "name": "python",
   "nbconvert_exporter": "python",
   "pygments_lexer": "ipython3",
   "version": "3.12.2"
  }
 },
 "nbformat": 4,
 "nbformat_minor": 2
}
