{
 "cells": [
  {
   "cell_type": "code",
   "execution_count": 1,
   "metadata": {},
   "outputs": [],
   "source": [
    "import polars as pl\n",
    "import polars.selectors as cs\n",
    "\n",
    "import pandas as pd\n",
    "import numpy as np\n",
    "\n",
    "from sklearn.pipeline import Pipeline\n",
    "from sklearn.preprocessing import StandardScaler, MinMaxScaler\n",
    "from sklearn.linear_model import LinearRegression\n",
    "from sklearn.pipeline import Pipeline\n",
    "from sklearn.impute import SimpleImputer\n",
    "from sklearn.tree import DecisionTreeRegressor\n",
    "from sklearn.ensemble import RandomForestRegressor\n",
    "from sklearn.model_selection import train_test_split\n",
    "from sklearn import tree\n",
    "\n",
    "import matplotlib.pyplot as plt\n",
    "# import pickle\n",
    "\n",
    "from modules.utils import data_utils, plot_utils"
   ]
  },
  {
   "cell_type": "code",
   "execution_count": 2,
   "metadata": {},
   "outputs": [],
   "source": [
    "data = data_utils.load_data()"
   ]
  },
  {
   "cell_type": "markdown",
   "metadata": {},
   "source": [
    "# Multioutput regression"
   ]
  },
  {
   "cell_type": "markdown",
   "metadata": {},
   "source": [
    "- In this analysis, our goal is to recommend content for SEDDS formulations. \n",
    "- The predictions are based on the characteristics of the drug and the desired characteristics of excipients.\n",
    "\n",
    "- The model can still be improved with training information about whether this content is ideal for further development of such SEDDS formulations. (and possibly add new data into dataset if possible)"
   ]
  },
  {
   "cell_type": "code",
   "execution_count": 3,
   "metadata": {},
   "outputs": [],
   "source": [
    "multi_target = ['oil_total', 'other_total', 'surfactant_total', 'cosolvent_total', 'API_prop']"
   ]
  },
  {
   "cell_type": "markdown",
   "metadata": {},
   "source": [
    "- We assume that the following features are not known to the user before actually creating a SEDDS formulation. We are removing information about the number of distinct excipients used as well."
   ]
  },
  {
   "cell_type": "code",
   "execution_count": 4,
   "metadata": {},
   "outputs": [],
   "source": [
    "inputs_unavailable = ['progressed', 'PDI', 'cplx_minmax_norm', 'size', 'o_num', 's_num', 'c_num', 'other_num']"
   ]
  },
  {
   "cell_type": "markdown",
   "metadata": {},
   "source": [
    "### Models"
   ]
  },
  {
   "cell_type": "markdown",
   "metadata": {},
   "source": [
    "- We will define the following models to see how well they perform on the data.\n"
   ]
  },
  {
   "cell_type": "code",
   "execution_count": 5,
   "metadata": {},
   "outputs": [],
   "source": [
    "reg_models = {\n",
    "    'dt': Pipeline([\n",
    "        ('fillna', SimpleImputer(strategy=\"median\")),\n",
    "        ('dt', DecisionTreeRegressor(max_depth = 3, random_state=42))\n",
    "    ]),\n",
    "    'linreg': Pipeline([\n",
    "        ('fillna', SimpleImputer(strategy=\"median\")),\n",
    "        ('sc', MinMaxScaler()), \n",
    "        ('linreg', LinearRegression())\n",
    "    ]),\n",
    "    'rf': Pipeline([\n",
    "        ('fillna', SimpleImputer(strategy=\"median\")),\n",
    "        ('sc', StandardScaler()), \n",
    "        ('rf', RandomForestRegressor(n_estimators=100, random_state=42))\n",
    "    ])\n",
    "}"
   ]
  },
  {
   "cell_type": "code",
   "execution_count": 6,
   "metadata": {},
   "outputs": [],
   "source": [
    "X = data.drop(multi_target + inputs_unavailable).to_pandas()\n",
    "y = data[multi_target].drop_nulls().to_pandas()\n",
    "\n",
    "X_tr, X_ts, y_tr, y_ts = train_test_split(X, y, test_size=0.20, random_state=42)"
   ]
  },
  {
   "cell_type": "code",
   "execution_count": 7,
   "metadata": {},
   "outputs": [],
   "source": [
    "reg_dt = reg_models.get('dt')\n",
    "reg_linreg_multioutput = reg_models.get('linreg')\n",
    "reg_rf_multioutput = reg_models.get('rf')\n"
   ]
  },
  {
   "cell_type": "code",
   "execution_count": 8,
   "metadata": {},
   "outputs": [
    {
     "data": {
      "text/html": [
       "<style>#sk-container-id-1 {\n",
       "  /* Definition of color scheme common for light and dark mode */\n",
       "  --sklearn-color-text: black;\n",
       "  --sklearn-color-line: gray;\n",
       "  /* Definition of color scheme for unfitted estimators */\n",
       "  --sklearn-color-unfitted-level-0: #fff5e6;\n",
       "  --sklearn-color-unfitted-level-1: #f6e4d2;\n",
       "  --sklearn-color-unfitted-level-2: #ffe0b3;\n",
       "  --sklearn-color-unfitted-level-3: chocolate;\n",
       "  /* Definition of color scheme for fitted estimators */\n",
       "  --sklearn-color-fitted-level-0: #f0f8ff;\n",
       "  --sklearn-color-fitted-level-1: #d4ebff;\n",
       "  --sklearn-color-fitted-level-2: #b3dbfd;\n",
       "  --sklearn-color-fitted-level-3: cornflowerblue;\n",
       "\n",
       "  /* Specific color for light theme */\n",
       "  --sklearn-color-text-on-default-background: var(--sg-text-color, var(--theme-code-foreground, var(--jp-content-font-color1, black)));\n",
       "  --sklearn-color-background: var(--sg-background-color, var(--theme-background, var(--jp-layout-color0, white)));\n",
       "  --sklearn-color-border-box: var(--sg-text-color, var(--theme-code-foreground, var(--jp-content-font-color1, black)));\n",
       "  --sklearn-color-icon: #696969;\n",
       "\n",
       "  @media (prefers-color-scheme: dark) {\n",
       "    /* Redefinition of color scheme for dark theme */\n",
       "    --sklearn-color-text-on-default-background: var(--sg-text-color, var(--theme-code-foreground, var(--jp-content-font-color1, white)));\n",
       "    --sklearn-color-background: var(--sg-background-color, var(--theme-background, var(--jp-layout-color0, #111)));\n",
       "    --sklearn-color-border-box: var(--sg-text-color, var(--theme-code-foreground, var(--jp-content-font-color1, white)));\n",
       "    --sklearn-color-icon: #878787;\n",
       "  }\n",
       "}\n",
       "\n",
       "#sk-container-id-1 {\n",
       "  color: var(--sklearn-color-text);\n",
       "}\n",
       "\n",
       "#sk-container-id-1 pre {\n",
       "  padding: 0;\n",
       "}\n",
       "\n",
       "#sk-container-id-1 input.sk-hidden--visually {\n",
       "  border: 0;\n",
       "  clip: rect(1px 1px 1px 1px);\n",
       "  clip: rect(1px, 1px, 1px, 1px);\n",
       "  height: 1px;\n",
       "  margin: -1px;\n",
       "  overflow: hidden;\n",
       "  padding: 0;\n",
       "  position: absolute;\n",
       "  width: 1px;\n",
       "}\n",
       "\n",
       "#sk-container-id-1 div.sk-dashed-wrapped {\n",
       "  border: 1px dashed var(--sklearn-color-line);\n",
       "  margin: 0 0.4em 0.5em 0.4em;\n",
       "  box-sizing: border-box;\n",
       "  padding-bottom: 0.4em;\n",
       "  background-color: var(--sklearn-color-background);\n",
       "}\n",
       "\n",
       "#sk-container-id-1 div.sk-container {\n",
       "  /* jupyter's `normalize.less` sets `[hidden] { display: none; }`\n",
       "     but bootstrap.min.css set `[hidden] { display: none !important; }`\n",
       "     so we also need the `!important` here to be able to override the\n",
       "     default hidden behavior on the sphinx rendered scikit-learn.org.\n",
       "     See: https://github.com/scikit-learn/scikit-learn/issues/21755 */\n",
       "  display: inline-block !important;\n",
       "  position: relative;\n",
       "}\n",
       "\n",
       "#sk-container-id-1 div.sk-text-repr-fallback {\n",
       "  display: none;\n",
       "}\n",
       "\n",
       "div.sk-parallel-item,\n",
       "div.sk-serial,\n",
       "div.sk-item {\n",
       "  /* draw centered vertical line to link estimators */\n",
       "  background-image: linear-gradient(var(--sklearn-color-text-on-default-background), var(--sklearn-color-text-on-default-background));\n",
       "  background-size: 2px 100%;\n",
       "  background-repeat: no-repeat;\n",
       "  background-position: center center;\n",
       "}\n",
       "\n",
       "/* Parallel-specific style estimator block */\n",
       "\n",
       "#sk-container-id-1 div.sk-parallel-item::after {\n",
       "  content: \"\";\n",
       "  width: 100%;\n",
       "  border-bottom: 2px solid var(--sklearn-color-text-on-default-background);\n",
       "  flex-grow: 1;\n",
       "}\n",
       "\n",
       "#sk-container-id-1 div.sk-parallel {\n",
       "  display: flex;\n",
       "  align-items: stretch;\n",
       "  justify-content: center;\n",
       "  background-color: var(--sklearn-color-background);\n",
       "  position: relative;\n",
       "}\n",
       "\n",
       "#sk-container-id-1 div.sk-parallel-item {\n",
       "  display: flex;\n",
       "  flex-direction: column;\n",
       "}\n",
       "\n",
       "#sk-container-id-1 div.sk-parallel-item:first-child::after {\n",
       "  align-self: flex-end;\n",
       "  width: 50%;\n",
       "}\n",
       "\n",
       "#sk-container-id-1 div.sk-parallel-item:last-child::after {\n",
       "  align-self: flex-start;\n",
       "  width: 50%;\n",
       "}\n",
       "\n",
       "#sk-container-id-1 div.sk-parallel-item:only-child::after {\n",
       "  width: 0;\n",
       "}\n",
       "\n",
       "/* Serial-specific style estimator block */\n",
       "\n",
       "#sk-container-id-1 div.sk-serial {\n",
       "  display: flex;\n",
       "  flex-direction: column;\n",
       "  align-items: center;\n",
       "  background-color: var(--sklearn-color-background);\n",
       "  padding-right: 1em;\n",
       "  padding-left: 1em;\n",
       "}\n",
       "\n",
       "\n",
       "/* Toggleable style: style used for estimator/Pipeline/ColumnTransformer box that is\n",
       "clickable and can be expanded/collapsed.\n",
       "- Pipeline and ColumnTransformer use this feature and define the default style\n",
       "- Estimators will overwrite some part of the style using the `sk-estimator` class\n",
       "*/\n",
       "\n",
       "/* Pipeline and ColumnTransformer style (default) */\n",
       "\n",
       "#sk-container-id-1 div.sk-toggleable {\n",
       "  /* Default theme specific background. It is overwritten whether we have a\n",
       "  specific estimator or a Pipeline/ColumnTransformer */\n",
       "  background-color: var(--sklearn-color-background);\n",
       "}\n",
       "\n",
       "/* Toggleable label */\n",
       "#sk-container-id-1 label.sk-toggleable__label {\n",
       "  cursor: pointer;\n",
       "  display: block;\n",
       "  width: 100%;\n",
       "  margin-bottom: 0;\n",
       "  padding: 0.5em;\n",
       "  box-sizing: border-box;\n",
       "  text-align: center;\n",
       "}\n",
       "\n",
       "#sk-container-id-1 label.sk-toggleable__label-arrow:before {\n",
       "  /* Arrow on the left of the label */\n",
       "  content: \"▸\";\n",
       "  float: left;\n",
       "  margin-right: 0.25em;\n",
       "  color: var(--sklearn-color-icon);\n",
       "}\n",
       "\n",
       "#sk-container-id-1 label.sk-toggleable__label-arrow:hover:before {\n",
       "  color: var(--sklearn-color-text);\n",
       "}\n",
       "\n",
       "/* Toggleable content - dropdown */\n",
       "\n",
       "#sk-container-id-1 div.sk-toggleable__content {\n",
       "  max-height: 0;\n",
       "  max-width: 0;\n",
       "  overflow: hidden;\n",
       "  text-align: left;\n",
       "  /* unfitted */\n",
       "  background-color: var(--sklearn-color-unfitted-level-0);\n",
       "}\n",
       "\n",
       "#sk-container-id-1 div.sk-toggleable__content.fitted {\n",
       "  /* fitted */\n",
       "  background-color: var(--sklearn-color-fitted-level-0);\n",
       "}\n",
       "\n",
       "#sk-container-id-1 div.sk-toggleable__content pre {\n",
       "  margin: 0.2em;\n",
       "  border-radius: 0.25em;\n",
       "  color: var(--sklearn-color-text);\n",
       "  /* unfitted */\n",
       "  background-color: var(--sklearn-color-unfitted-level-0);\n",
       "}\n",
       "\n",
       "#sk-container-id-1 div.sk-toggleable__content.fitted pre {\n",
       "  /* unfitted */\n",
       "  background-color: var(--sklearn-color-fitted-level-0);\n",
       "}\n",
       "\n",
       "#sk-container-id-1 input.sk-toggleable__control:checked~div.sk-toggleable__content {\n",
       "  /* Expand drop-down */\n",
       "  max-height: 200px;\n",
       "  max-width: 100%;\n",
       "  overflow: auto;\n",
       "}\n",
       "\n",
       "#sk-container-id-1 input.sk-toggleable__control:checked~label.sk-toggleable__label-arrow:before {\n",
       "  content: \"▾\";\n",
       "}\n",
       "\n",
       "/* Pipeline/ColumnTransformer-specific style */\n",
       "\n",
       "#sk-container-id-1 div.sk-label input.sk-toggleable__control:checked~label.sk-toggleable__label {\n",
       "  color: var(--sklearn-color-text);\n",
       "  background-color: var(--sklearn-color-unfitted-level-2);\n",
       "}\n",
       "\n",
       "#sk-container-id-1 div.sk-label.fitted input.sk-toggleable__control:checked~label.sk-toggleable__label {\n",
       "  background-color: var(--sklearn-color-fitted-level-2);\n",
       "}\n",
       "\n",
       "/* Estimator-specific style */\n",
       "\n",
       "/* Colorize estimator box */\n",
       "#sk-container-id-1 div.sk-estimator input.sk-toggleable__control:checked~label.sk-toggleable__label {\n",
       "  /* unfitted */\n",
       "  background-color: var(--sklearn-color-unfitted-level-2);\n",
       "}\n",
       "\n",
       "#sk-container-id-1 div.sk-estimator.fitted input.sk-toggleable__control:checked~label.sk-toggleable__label {\n",
       "  /* fitted */\n",
       "  background-color: var(--sklearn-color-fitted-level-2);\n",
       "}\n",
       "\n",
       "#sk-container-id-1 div.sk-label label.sk-toggleable__label,\n",
       "#sk-container-id-1 div.sk-label label {\n",
       "  /* The background is the default theme color */\n",
       "  color: var(--sklearn-color-text-on-default-background);\n",
       "}\n",
       "\n",
       "/* On hover, darken the color of the background */\n",
       "#sk-container-id-1 div.sk-label:hover label.sk-toggleable__label {\n",
       "  color: var(--sklearn-color-text);\n",
       "  background-color: var(--sklearn-color-unfitted-level-2);\n",
       "}\n",
       "\n",
       "/* Label box, darken color on hover, fitted */\n",
       "#sk-container-id-1 div.sk-label.fitted:hover label.sk-toggleable__label.fitted {\n",
       "  color: var(--sklearn-color-text);\n",
       "  background-color: var(--sklearn-color-fitted-level-2);\n",
       "}\n",
       "\n",
       "/* Estimator label */\n",
       "\n",
       "#sk-container-id-1 div.sk-label label {\n",
       "  font-family: monospace;\n",
       "  font-weight: bold;\n",
       "  display: inline-block;\n",
       "  line-height: 1.2em;\n",
       "}\n",
       "\n",
       "#sk-container-id-1 div.sk-label-container {\n",
       "  text-align: center;\n",
       "}\n",
       "\n",
       "/* Estimator-specific */\n",
       "#sk-container-id-1 div.sk-estimator {\n",
       "  font-family: monospace;\n",
       "  border: 1px dotted var(--sklearn-color-border-box);\n",
       "  border-radius: 0.25em;\n",
       "  box-sizing: border-box;\n",
       "  margin-bottom: 0.5em;\n",
       "  /* unfitted */\n",
       "  background-color: var(--sklearn-color-unfitted-level-0);\n",
       "}\n",
       "\n",
       "#sk-container-id-1 div.sk-estimator.fitted {\n",
       "  /* fitted */\n",
       "  background-color: var(--sklearn-color-fitted-level-0);\n",
       "}\n",
       "\n",
       "/* on hover */\n",
       "#sk-container-id-1 div.sk-estimator:hover {\n",
       "  /* unfitted */\n",
       "  background-color: var(--sklearn-color-unfitted-level-2);\n",
       "}\n",
       "\n",
       "#sk-container-id-1 div.sk-estimator.fitted:hover {\n",
       "  /* fitted */\n",
       "  background-color: var(--sklearn-color-fitted-level-2);\n",
       "}\n",
       "\n",
       "/* Specification for estimator info (e.g. \"i\" and \"?\") */\n",
       "\n",
       "/* Common style for \"i\" and \"?\" */\n",
       "\n",
       ".sk-estimator-doc-link,\n",
       "a:link.sk-estimator-doc-link,\n",
       "a:visited.sk-estimator-doc-link {\n",
       "  float: right;\n",
       "  font-size: smaller;\n",
       "  line-height: 1em;\n",
       "  font-family: monospace;\n",
       "  background-color: var(--sklearn-color-background);\n",
       "  border-radius: 1em;\n",
       "  height: 1em;\n",
       "  width: 1em;\n",
       "  text-decoration: none !important;\n",
       "  margin-left: 1ex;\n",
       "  /* unfitted */\n",
       "  border: var(--sklearn-color-unfitted-level-1) 1pt solid;\n",
       "  color: var(--sklearn-color-unfitted-level-1);\n",
       "}\n",
       "\n",
       ".sk-estimator-doc-link.fitted,\n",
       "a:link.sk-estimator-doc-link.fitted,\n",
       "a:visited.sk-estimator-doc-link.fitted {\n",
       "  /* fitted */\n",
       "  border: var(--sklearn-color-fitted-level-1) 1pt solid;\n",
       "  color: var(--sklearn-color-fitted-level-1);\n",
       "}\n",
       "\n",
       "/* On hover */\n",
       "div.sk-estimator:hover .sk-estimator-doc-link:hover,\n",
       ".sk-estimator-doc-link:hover,\n",
       "div.sk-label-container:hover .sk-estimator-doc-link:hover,\n",
       ".sk-estimator-doc-link:hover {\n",
       "  /* unfitted */\n",
       "  background-color: var(--sklearn-color-unfitted-level-3);\n",
       "  color: var(--sklearn-color-background);\n",
       "  text-decoration: none;\n",
       "}\n",
       "\n",
       "div.sk-estimator.fitted:hover .sk-estimator-doc-link.fitted:hover,\n",
       ".sk-estimator-doc-link.fitted:hover,\n",
       "div.sk-label-container:hover .sk-estimator-doc-link.fitted:hover,\n",
       ".sk-estimator-doc-link.fitted:hover {\n",
       "  /* fitted */\n",
       "  background-color: var(--sklearn-color-fitted-level-3);\n",
       "  color: var(--sklearn-color-background);\n",
       "  text-decoration: none;\n",
       "}\n",
       "\n",
       "/* Span, style for the box shown on hovering the info icon */\n",
       ".sk-estimator-doc-link span {\n",
       "  display: none;\n",
       "  z-index: 9999;\n",
       "  position: relative;\n",
       "  font-weight: normal;\n",
       "  right: .2ex;\n",
       "  padding: .5ex;\n",
       "  margin: .5ex;\n",
       "  width: min-content;\n",
       "  min-width: 20ex;\n",
       "  max-width: 50ex;\n",
       "  color: var(--sklearn-color-text);\n",
       "  box-shadow: 2pt 2pt 4pt #999;\n",
       "  /* unfitted */\n",
       "  background: var(--sklearn-color-unfitted-level-0);\n",
       "  border: .5pt solid var(--sklearn-color-unfitted-level-3);\n",
       "}\n",
       "\n",
       ".sk-estimator-doc-link.fitted span {\n",
       "  /* fitted */\n",
       "  background: var(--sklearn-color-fitted-level-0);\n",
       "  border: var(--sklearn-color-fitted-level-3);\n",
       "}\n",
       "\n",
       ".sk-estimator-doc-link:hover span {\n",
       "  display: block;\n",
       "}\n",
       "\n",
       "/* \"?\"-specific style due to the `<a>` HTML tag */\n",
       "\n",
       "#sk-container-id-1 a.estimator_doc_link {\n",
       "  float: right;\n",
       "  font-size: 1rem;\n",
       "  line-height: 1em;\n",
       "  font-family: monospace;\n",
       "  background-color: var(--sklearn-color-background);\n",
       "  border-radius: 1rem;\n",
       "  height: 1rem;\n",
       "  width: 1rem;\n",
       "  text-decoration: none;\n",
       "  /* unfitted */\n",
       "  color: var(--sklearn-color-unfitted-level-1);\n",
       "  border: var(--sklearn-color-unfitted-level-1) 1pt solid;\n",
       "}\n",
       "\n",
       "#sk-container-id-1 a.estimator_doc_link.fitted {\n",
       "  /* fitted */\n",
       "  border: var(--sklearn-color-fitted-level-1) 1pt solid;\n",
       "  color: var(--sklearn-color-fitted-level-1);\n",
       "}\n",
       "\n",
       "/* On hover */\n",
       "#sk-container-id-1 a.estimator_doc_link:hover {\n",
       "  /* unfitted */\n",
       "  background-color: var(--sklearn-color-unfitted-level-3);\n",
       "  color: var(--sklearn-color-background);\n",
       "  text-decoration: none;\n",
       "}\n",
       "\n",
       "#sk-container-id-1 a.estimator_doc_link.fitted:hover {\n",
       "  /* fitted */\n",
       "  background-color: var(--sklearn-color-fitted-level-3);\n",
       "}\n",
       "</style><div id=\"sk-container-id-1\" class=\"sk-top-container\"><div class=\"sk-text-repr-fallback\"><pre>Pipeline(steps=[(&#x27;fillna&#x27;, SimpleImputer(strategy=&#x27;median&#x27;)),\n",
       "                (&#x27;sc&#x27;, StandardScaler()),\n",
       "                (&#x27;rf&#x27;, RandomForestRegressor(random_state=42))])</pre><b>In a Jupyter environment, please rerun this cell to show the HTML representation or trust the notebook. <br />On GitHub, the HTML representation is unable to render, please try loading this page with nbviewer.org.</b></div><div class=\"sk-container\" hidden><div class=\"sk-item sk-dashed-wrapped\"><div class=\"sk-label-container\"><div class=\"sk-label fitted sk-toggleable\"><input class=\"sk-toggleable__control sk-hidden--visually\" id=\"sk-estimator-id-1\" type=\"checkbox\" ><label for=\"sk-estimator-id-1\" class=\"sk-toggleable__label fitted sk-toggleable__label-arrow fitted\">&nbsp;&nbsp;Pipeline<a class=\"sk-estimator-doc-link fitted\" rel=\"noreferrer\" target=\"_blank\" href=\"https://scikit-learn.org/1.4/modules/generated/sklearn.pipeline.Pipeline.html\">?<span>Documentation for Pipeline</span></a><span class=\"sk-estimator-doc-link fitted\">i<span>Fitted</span></span></label><div class=\"sk-toggleable__content fitted\"><pre>Pipeline(steps=[(&#x27;fillna&#x27;, SimpleImputer(strategy=&#x27;median&#x27;)),\n",
       "                (&#x27;sc&#x27;, StandardScaler()),\n",
       "                (&#x27;rf&#x27;, RandomForestRegressor(random_state=42))])</pre></div> </div></div><div class=\"sk-serial\"><div class=\"sk-item\"><div class=\"sk-estimator fitted sk-toggleable\"><input class=\"sk-toggleable__control sk-hidden--visually\" id=\"sk-estimator-id-2\" type=\"checkbox\" ><label for=\"sk-estimator-id-2\" class=\"sk-toggleable__label fitted sk-toggleable__label-arrow fitted\">&nbsp;SimpleImputer<a class=\"sk-estimator-doc-link fitted\" rel=\"noreferrer\" target=\"_blank\" href=\"https://scikit-learn.org/1.4/modules/generated/sklearn.impute.SimpleImputer.html\">?<span>Documentation for SimpleImputer</span></a></label><div class=\"sk-toggleable__content fitted\"><pre>SimpleImputer(strategy=&#x27;median&#x27;)</pre></div> </div></div><div class=\"sk-item\"><div class=\"sk-estimator fitted sk-toggleable\"><input class=\"sk-toggleable__control sk-hidden--visually\" id=\"sk-estimator-id-3\" type=\"checkbox\" ><label for=\"sk-estimator-id-3\" class=\"sk-toggleable__label fitted sk-toggleable__label-arrow fitted\">&nbsp;StandardScaler<a class=\"sk-estimator-doc-link fitted\" rel=\"noreferrer\" target=\"_blank\" href=\"https://scikit-learn.org/1.4/modules/generated/sklearn.preprocessing.StandardScaler.html\">?<span>Documentation for StandardScaler</span></a></label><div class=\"sk-toggleable__content fitted\"><pre>StandardScaler()</pre></div> </div></div><div class=\"sk-item\"><div class=\"sk-estimator fitted sk-toggleable\"><input class=\"sk-toggleable__control sk-hidden--visually\" id=\"sk-estimator-id-4\" type=\"checkbox\" ><label for=\"sk-estimator-id-4\" class=\"sk-toggleable__label fitted sk-toggleable__label-arrow fitted\">&nbsp;RandomForestRegressor<a class=\"sk-estimator-doc-link fitted\" rel=\"noreferrer\" target=\"_blank\" href=\"https://scikit-learn.org/1.4/modules/generated/sklearn.ensemble.RandomForestRegressor.html\">?<span>Documentation for RandomForestRegressor</span></a></label><div class=\"sk-toggleable__content fitted\"><pre>RandomForestRegressor(random_state=42)</pre></div> </div></div></div></div></div></div>"
      ],
      "text/plain": [
       "Pipeline(steps=[('fillna', SimpleImputer(strategy='median')),\n",
       "                ('sc', StandardScaler()),\n",
       "                ('rf', RandomForestRegressor(random_state=42))])"
      ]
     },
     "execution_count": 8,
     "metadata": {},
     "output_type": "execute_result"
    }
   ],
   "source": [
    "reg_dt.fit(X_tr, y_tr)\n",
    "reg_linreg_multioutput.fit(X_tr, y_tr)\n",
    "reg_rf_multioutput.fit(X_tr, y_tr)"
   ]
  },
  {
   "cell_type": "code",
   "execution_count": 9,
   "metadata": {},
   "outputs": [
    {
     "data": {
      "text/plain": [
       "(0.30817827431475964,)"
      ]
     },
     "execution_count": 9,
     "metadata": {},
     "output_type": "execute_result"
    }
   ],
   "source": [
    "reg_dt.score(X_ts, y_ts), "
   ]
  },
  {
   "cell_type": "code",
   "execution_count": 10,
   "metadata": {},
   "outputs": [
    {
     "data": {
      "text/plain": [
       "0.38439217143423815"
      ]
     },
     "execution_count": 10,
     "metadata": {},
     "output_type": "execute_result"
    }
   ],
   "source": [
    "reg_linreg_multioutput.score(X_ts, y_ts)"
   ]
  },
  {
   "cell_type": "code",
   "execution_count": 11,
   "metadata": {},
   "outputs": [
    {
     "data": {
      "text/plain": [
       "0.6631399170534497"
      ]
     },
     "execution_count": 11,
     "metadata": {},
     "output_type": "execute_result"
    }
   ],
   "source": [
    "reg_rf_multioutput.score(X_ts, y_ts)"
   ]
  },
  {
   "cell_type": "markdown",
   "metadata": {},
   "source": [
    "- Random Forest chose as a model for further analysis. Other are not performing that well."
   ]
  },
  {
   "cell_type": "code",
   "execution_count": 12,
   "metadata": {},
   "outputs": [
    {
     "data": {
      "text/plain": [
       "Index(['API_mol_wt', 'logp_chemaxon', 'API_melt_temp', 'API_water_sol',\n",
       "       'API_polar_sa', 'API_rot_bond', 'API_H_bond_donor', 'API_H_bond_accept',\n",
       "       'o_LC', 'o_sat', 's_HLB', 'c_mol_wt', 'c_melt_temp', 'c_boil_temp',\n",
       "       'c_density', 'c_viscosity'],\n",
       "      dtype='object')"
      ]
     },
     "execution_count": 12,
     "metadata": {},
     "output_type": "execute_result"
    }
   ],
   "source": [
    "X_tr.columns"
   ]
  },
  {
   "cell_type": "code",
   "execution_count": 13,
   "metadata": {},
   "outputs": [
    {
     "data": {
      "image/png": "[encoded data removed]",
      "text/plain": [
       "<Figure size 1200x800 with 1 Axes>"
      ]
     },
     "metadata": {},
     "output_type": "display_data"
    }
   ],
   "source": [
    "plt.figure(figsize=(12, 8))  # Increase the plot size for better visibility\n",
    "tree.plot_tree(reg_rf_multioutput.named_steps['rf'].estimators_[0], max_depth=3)  # Limit tree depth for simplicity\n",
    "plt.show()\n"
   ]
  },
  {
   "cell_type": "markdown",
   "metadata": {},
   "source": [
    "- molecular weight of cosolvent, then spliting for its melting temperature, than number of drug bond acceptors \n",
    "- drug melting temperature and weight-averaged hydrophilic-lipophilic balance of surfactants in the formulation"
   ]
  },
  {
   "cell_type": "code",
   "execution_count": 14,
   "metadata": {},
   "outputs": [
    {
     "data": {
      "text/plain": [
       "235      0.000000\n",
       "399     76.099998\n",
       "602    134.199997\n",
       "61       0.000000\n",
       "145     76.099998\n",
       "          ...    \n",
       "71      46.099998\n",
       "106    134.199997\n",
       "270      0.000000\n",
       "435     46.099998\n",
       "102    134.199997\n",
       "Name: c_mol_wt, Length: 534, dtype: float32"
      ]
     },
     "execution_count": 14,
     "metadata": {},
     "output_type": "execute_result"
    }
   ],
   "source": [
    "X_tr.iloc[:, 11]\n"
   ]
  },
  {
   "cell_type": "code",
   "execution_count": 15,
   "metadata": {},
   "outputs": [
    {
     "data": {
      "text/plain": [
       "235      0.000000\n",
       "399    -59.000000\n",
       "602    -76.000000\n",
       "61       0.000000\n",
       "145    -59.000000\n",
       "          ...    \n",
       "71    -114.099998\n",
       "106    -76.000000\n",
       "270      0.000000\n",
       "435   -114.099998\n",
       "102    -76.000000\n",
       "Name: c_melt_temp, Length: 534, dtype: float32"
      ]
     },
     "execution_count": 15,
     "metadata": {},
     "output_type": "execute_result"
    }
   ],
   "source": [
    "X_tr.iloc[:, 12]"
   ]
  },
  {
   "cell_type": "code",
   "execution_count": 16,
   "metadata": {},
   "outputs": [
    {
     "data": {
      "text/plain": [
       "235     6.0\n",
       "399    12.0\n",
       "602     3.0\n",
       "61      2.0\n",
       "145     5.0\n",
       "       ... \n",
       "71      2.0\n",
       "106     2.0\n",
       "270     3.0\n",
       "435    10.0\n",
       "102     2.0\n",
       "Name: API_H_bond_accept, Length: 534, dtype: float32"
      ]
     },
     "execution_count": 16,
     "metadata": {},
     "output_type": "execute_result"
    }
   ],
   "source": [
    "X_tr.iloc[:, 7]"
   ]
  },
  {
   "cell_type": "code",
   "execution_count": 17,
   "metadata": {},
   "outputs": [
    {
     "data": {
      "text/plain": [
       "235    14.4\n",
       "399    15.0\n",
       "602    15.0\n",
       "61     15.0\n",
       "145    15.0\n",
       "       ... \n",
       "71     15.0\n",
       "106    13.0\n",
       "270    15.0\n",
       "435    14.5\n",
       "102    13.0\n",
       "Name: s_HLB, Length: 534, dtype: float32"
      ]
     },
     "execution_count": 17,
     "metadata": {},
     "output_type": "execute_result"
    }
   ],
   "source": [
    "X_tr.iloc[:, 10]"
   ]
  },
  {
   "cell_type": "code",
   "execution_count": 18,
   "metadata": {},
   "outputs": [
    {
     "data": {
      "text/plain": [
       "235    116.5\n",
       "399    149.5\n",
       "602    136.5\n",
       "61     225.5\n",
       "145    125.5\n",
       "       ...  \n",
       "71     137.0\n",
       "106    225.5\n",
       "270     80.5\n",
       "435    216.5\n",
       "102    225.5\n",
       "Name: API_melt_temp, Length: 534, dtype: float32"
      ]
     },
     "execution_count": 18,
     "metadata": {},
     "output_type": "execute_result"
    }
   ],
   "source": [
    "X_tr.iloc[:, 2]"
   ]
  },
  {
   "cell_type": "markdown",
   "metadata": {},
   "source": [
    "## Feature engineering"
   ]
  },
  {
   "cell_type": "markdown",
   "metadata": {},
   "source": [
    "- **thermal_stability_index**\n",
    "    - single metric that captures thermal properties of the cosolvent\n",
    "    - cosolvent toleration to temperatures?\n",
    "- **chemical_stability_index**\n",
    "    - possible stability against chemical reactions?"
   ]
  },
  {
   "cell_type": "code",
   "execution_count": 19,
   "metadata": {},
   "outputs": [],
   "source": [
    "# data_f = data.with_columns(\n",
    "#     ((pl.col('c_melt_temp') * pl.col('c_boil_temp')).alias('thermal_stability_index'))\n",
    "# )\n",
    "\n",
    "# data_f = data_f.with_columns(\n",
    "#     (pl.col('c_density') * pl.col('c_viscosity')).alias('chemical_stability_index')\n",
    "# )"
   ]
  },
  {
   "cell_type": "markdown",
   "metadata": {},
   "source": [
    "- **API_molwt_c_density_interaction**\n",
    "    - Indicator for the solubility and stability of the drug with the cosolvent. \n",
    "    - Higher value than might suggest more soluble formulation?\n",
    "- **melt_sol_polar_ratio**\n",
    "    - Higher ratio might suggest more thermally stable/soluble formulation?"
   ]
  },
  {
   "cell_type": "code",
   "execution_count": 20,
   "metadata": {},
   "outputs": [],
   "source": [
    "data_f = data.with_columns([\n",
    "    (pl.col('API_water_sol') * pl.col('API_mol_wt') * pl.col('c_density') * pl.col('c_mol_wt')).alias('API_molwt_c_density_interaction'), # 0.67\n",
    "    (pl.col('API_melt_temp') * pl.col('API_water_sol') / pl.col('API_polar_sa')).alias('melt_sol_polar_ratio') # 0.6674\n",
    "    # (pl.col('s_HLB') * pl.col('c_density')).alias('f') # 0.6674\n",
    "    # (pl.col('API_polar_sa') * pl.col('s_HLB')).alias('API_polarsa_s_HLB_interaction'),\n",
    "    # pl.col('s_HLB').pow(2).alias('s_HLB_squared'),\n",
    "])"
   ]
  },
  {
   "cell_type": "code",
   "execution_count": 21,
   "metadata": {},
   "outputs": [
    {
     "data": {
      "text/html": [
       "<div><style>\n",
       ".dataframe > thead > tr,\n",
       ".dataframe > tbody > tr {\n",
       "  text-align: right;\n",
       "  white-space: pre-wrap;\n",
       "}\n",
       "</style>\n",
       "<small>shape: (9, 32)</small><table border=\"1\" class=\"dataframe\"><thead><tr><th>statistic</th><th>progressed</th><th>size</th><th>PDI</th><th>API_prop</th><th>oil_total</th><th>surfactant_total</th><th>cosolvent_total</th><th>other_total</th><th>o_num</th><th>s_num</th><th>c_num</th><th>other_num</th><th>cplx_minmax_norm</th><th>API_mol_wt</th><th>logp_chemaxon</th><th>API_melt_temp</th><th>API_water_sol</th><th>API_polar_sa</th><th>API_rot_bond</th><th>API_H_bond_donor</th><th>API_H_bond_accept</th><th>o_LC</th><th>o_sat</th><th>s_HLB</th><th>c_mol_wt</th><th>c_melt_temp</th><th>c_boil_temp</th><th>c_density</th><th>c_viscosity</th><th>API_molwt_c_density_interaction</th><th>melt_sol_polar_ratio</th></tr><tr><td>str</td><td>str</td><td>f64</td><td>f64</td><td>f64</td><td>f64</td><td>f64</td><td>f64</td><td>f64</td><td>f64</td><td>f64</td><td>f64</td><td>f64</td><td>f64</td><td>f64</td><td>f64</td><td>f64</td><td>f64</td><td>f64</td><td>f64</td><td>f64</td><td>f64</td><td>str</td><td>str</td><td>f64</td><td>f64</td><td>f64</td><td>f64</td><td>f64</td><td>f64</td><td>f64</td><td>f64</td></tr></thead><tbody><tr><td>&quot;count&quot;</td><td>&quot;668&quot;</td><td>506.0</td><td>289.0</td><td>668.0</td><td>668.0</td><td>668.0</td><td>668.0</td><td>668.0</td><td>668.0</td><td>668.0</td><td>668.0</td><td>668.0</td><td>668.0</td><td>668.0</td><td>668.0</td><td>668.0</td><td>668.0</td><td>668.0</td><td>668.0</td><td>668.0</td><td>668.0</td><td>&quot;668&quot;</td><td>&quot;668&quot;</td><td>668.0</td><td>668.0</td><td>668.0</td><td>668.0</td><td>668.0</td><td>668.0</td><td>668.0</td><td>668.0</td></tr><tr><td>&quot;null_count&quot;</td><td>&quot;0&quot;</td><td>162.0</td><td>379.0</td><td>0.0</td><td>0.0</td><td>0.0</td><td>0.0</td><td>0.0</td><td>0.0</td><td>0.0</td><td>0.0</td><td>0.0</td><td>0.0</td><td>0.0</td><td>0.0</td><td>0.0</td><td>0.0</td><td>0.0</td><td>0.0</td><td>0.0</td><td>0.0</td><td>&quot;0&quot;</td><td>&quot;0&quot;</td><td>0.0</td><td>0.0</td><td>0.0</td><td>0.0</td><td>0.0</td><td>0.0</td><td>0.0</td><td>0.0</td></tr><tr><td>&quot;mean&quot;</td><td>null</td><td>140.205658</td><td>0.250784</td><td>6.415936</td><td>35.014633</td><td>45.269371</td><td>12.147912</td><td>1.152695</td><td>1.368263</td><td>1.288922</td><td>0.646707</td><td>0.091317</td><td>0.174401</td><td>481.722534</td><td>4.733294</td><td>130.891464</td><td>0.057113</td><td>95.349953</td><td>8.296407</td><td>1.73503</td><td>4.547904</td><td>null</td><td>null</td><td>13.642815</td><td>78.044014</td><td>-42.598801</td><td>97.270958</td><td>0.582036</td><td>13.658234</td><td>962.202148</td><td>0.839492</td></tr><tr><td>&quot;std&quot;</td><td>null</td><td>304.983734</td><td>0.146898</td><td>6.055097</td><td>21.0464</td><td>20.49094</td><td>15.289106</td><td>6.349833</td><td>0.560316</td><td>0.625828</td><td>0.551164</td><td>0.308378</td><td>0.109052</td><td>229.726608</td><td>1.685694</td><td>48.424789</td><td>0.175672</td><td>74.825226</td><td>3.715382</td><td>1.995535</td><td>3.195637</td><td>null</td><td>null</td><td>2.526405</td><td>105.660721</td><td>47.233089</td><td>92.058823</td><td>0.472266</td><td>27.431568</td><td>3786.706299</td><td>3.2521</td></tr><tr><td>&quot;min&quot;</td><td>null</td><td>7.2</td><td>0.02</td><td>0.06</td><td>0.0</td><td>0.0</td><td>0.0</td><td>0.0</td><td>0.0</td><td>0.0</td><td>0.0</td><td>0.0</td><td>0.0</td><td>206.289993</td><td>-2.3</td><td>59.5</td><td>0.00011</td><td>6.48</td><td>0.0</td><td>0.0</td><td>2.0</td><td>null</td><td>null</td><td>0.0</td><td>0.0</td><td>-114.099998</td><td>0.0</td><td>0.0</td><td>0.0</td><td>0.0</td><td>0.000642</td></tr><tr><td>&quot;25%&quot;</td><td>null</td><td>31.9</td><td>0.145</td><td>2.0</td><td>18.0</td><td>30.0</td><td>0.0</td><td>0.0</td><td>1.0</td><td>1.0</td><td>0.0</td><td>0.0</td><td>0.125</td><td>360.829987</td><td>3.64</td><td>80.5</td><td>0.00071</td><td>46.529999</td><td>6.0</td><td>0.0</td><td>3.0</td><td>null</td><td>null</td><td>13.0</td><td>0.0</td><td>-76.0</td><td>0.0</td><td>0.0</td><td>0.0</td><td>0.0</td><td>0.001087</td></tr><tr><td>&quot;50%&quot;</td><td>null</td><td>76.529999</td><td>0.23</td><td>5.0</td><td>33.169998</td><td>44.0</td><td>8.0</td><td>0.0</td><td>1.0</td><td>1.0</td><td>1.0</td><td>0.0</td><td>0.125</td><td>406.473999</td><td>5.22</td><td>125.5</td><td>0.0122</td><td>52.599998</td><td>7.0</td><td>1.0</td><td>3.0</td><td>null</td><td>null</td><td>14.5</td><td>46.099998</td><td>-26.0</td><td>78.400002</td><td>0.8</td><td>1.1</td><td>19.496004</td><td>0.014151</td></tr><tr><td>&quot;75%&quot;</td><td>null</td><td>170.699997</td><td>0.32</td><td>8.5</td><td>50.34</td><td>61.5</td><td>19.34</td><td>0.0</td><td>2.0</td><td>2.0</td><td>1.0</td><td>0.0</td><td>0.25</td><td>500.423004</td><td>5.28</td><td>149.5</td><td>0.0234</td><td>117.68</td><td>11.0</td><td>2.0</td><td>6.0</td><td>null</td><td>null</td><td>15.0</td><td>134.199997</td><td>0.0</td><td>202.0</td><td>1.0</td><td>4.8</td><td>554.912964</td><td>0.024325</td></tr><tr><td>&quot;max&quot;</td><td>null</td><td>4964.0</td><td>0.949</td><td>52.700001</td><td>99.32</td><td>97.0</td><td>76.800003</td><td>68.040001</td><td>3.0</td><td>5.0</td><td>3.0</td><td>2.0</td><td>1.0</td><td>1202.609985</td><td>8.06</td><td>232.0</td><td>0.75</td><td>319.609985</td><td>18.0</td><td>12.0</td><td>17.0</td><td>null</td><td>null</td><td>16.9</td><td>600.0</td><td>32.5</td><td>261.200012</td><td>1.2</td><td>90.0</td><td>59699.265625</td><td>13.715278</td></tr></tbody></table></div>"
      ],
      "text/plain": [
       "shape: (9, 32)\n",
       "┌───────────┬───────────┬───────────┬──────────┬───┬───────────┬───────────┬───────────┬───────────┐\n",
       "│ statistic ┆ progresse ┆ size      ┆ PDI      ┆ … ┆ c_density ┆ c_viscosi ┆ API_molwt ┆ melt_sol_ │\n",
       "│ ---       ┆ d         ┆ ---       ┆ ---      ┆   ┆ ---       ┆ ty        ┆ _c_densit ┆ polar_rat │\n",
       "│ str       ┆ ---       ┆ f64       ┆ f64      ┆   ┆ f64       ┆ ---       ┆ y_interac ┆ io        │\n",
       "│           ┆ str       ┆           ┆          ┆   ┆           ┆ f64       ┆ tio…      ┆ ---       │\n",
       "│           ┆           ┆           ┆          ┆   ┆           ┆           ┆ ---       ┆ f64       │\n",
       "│           ┆           ┆           ┆          ┆   ┆           ┆           ┆ f64       ┆           │\n",
       "╞═══════════╪═══════════╪═══════════╪══════════╪═══╪═══════════╪═══════════╪═══════════╪═══════════╡\n",
       "│ count     ┆ 668       ┆ 506.0     ┆ 289.0    ┆ … ┆ 668.0     ┆ 668.0     ┆ 668.0     ┆ 668.0     │\n",
       "│ null_coun ┆ 0         ┆ 162.0     ┆ 379.0    ┆ … ┆ 0.0       ┆ 0.0       ┆ 0.0       ┆ 0.0       │\n",
       "│ t         ┆           ┆           ┆          ┆   ┆           ┆           ┆           ┆           │\n",
       "│ mean      ┆ null      ┆ 140.20565 ┆ 0.250784 ┆ … ┆ 0.582036  ┆ 13.658234 ┆ 962.20214 ┆ 0.839492  │\n",
       "│           ┆           ┆ 8         ┆          ┆   ┆           ┆           ┆ 8         ┆           │\n",
       "│ std       ┆ null      ┆ 304.98373 ┆ 0.146898 ┆ … ┆ 0.472266  ┆ 27.431568 ┆ 3786.7062 ┆ 3.2521    │\n",
       "│           ┆           ┆ 4         ┆          ┆   ┆           ┆           ┆ 99        ┆           │\n",
       "│ min       ┆ null      ┆ 7.2       ┆ 0.02     ┆ … ┆ 0.0       ┆ 0.0       ┆ 0.0       ┆ 0.000642  │\n",
       "│ 25%       ┆ null      ┆ 31.9      ┆ 0.145    ┆ … ┆ 0.0       ┆ 0.0       ┆ 0.0       ┆ 0.001087  │\n",
       "│ 50%       ┆ null      ┆ 76.529999 ┆ 0.23     ┆ … ┆ 0.8       ┆ 1.1       ┆ 19.496004 ┆ 0.014151  │\n",
       "│ 75%       ┆ null      ┆ 170.69999 ┆ 0.32     ┆ … ┆ 1.0       ┆ 4.8       ┆ 554.91296 ┆ 0.024325  │\n",
       "│           ┆           ┆ 7         ┆          ┆   ┆           ┆           ┆ 4         ┆           │\n",
       "│ max       ┆ null      ┆ 4964.0    ┆ 0.949    ┆ … ┆ 1.2       ┆ 90.0      ┆ 59699.265 ┆ 13.715278 │\n",
       "│           ┆           ┆           ┆          ┆   ┆           ┆           ┆ 625       ┆           │\n",
       "└───────────┴───────────┴───────────┴──────────┴───┴───────────┴───────────┴───────────┴───────────┘"
      ]
     },
     "execution_count": 21,
     "metadata": {},
     "output_type": "execute_result"
    }
   ],
   "source": [
    "data_f.describe()"
   ]
  },
  {
   "cell_type": "markdown",
   "metadata": {},
   "source": [
    "- After several experiments API_molwt_c_density_interaction and melt_sol_polar_ratio slightly improved model acc."
   ]
  },
  {
   "cell_type": "code",
   "execution_count": 22,
   "metadata": {},
   "outputs": [],
   "source": [
    "selected_features = ['melt_sol_polar_ratio', 'API_molwt_c_density_interaction']"
   ]
  },
  {
   "cell_type": "code",
   "execution_count": 23,
   "metadata": {},
   "outputs": [
    {
     "data": {
      "image/png": "[encoded data removed]",
      "text/plain": [
       "<Figure size 2500x500 with 2 Axes>"
      ]
     },
     "metadata": {},
     "output_type": "display_data"
    }
   ],
   "source": [
    "plot_utils.plot_histogram(features=selected_features, data=data_f)"
   ]
  },
  {
   "cell_type": "code",
   "execution_count": 24,
   "metadata": {},
   "outputs": [
    {
     "data": {
      "image/png": "[encoded data removed]",
      "text/plain": [
       "<Figure size 640x480 with 1 Axes>"
      ]
     },
     "metadata": {},
     "output_type": "display_data"
    }
   ],
   "source": [
    "# Plotting the relationship between PDI and 'progressed' using polars (categorical)\n",
    "fig, ax = plt.subplots()\n",
    "unique_categories = data_f['progressed'].unique().to_list()\n",
    "list(map(lambda category: ax.scatter(\n",
    "    data_f.filter(pl.col('progressed') == category)['API_molwt_c_density_interaction'].to_numpy(), \n",
    "    [category] * len(data_f.filter(pl.col('progressed') == category)), \n",
    "    label=f'Progressed: {category}'\n",
    "), unique_categories))\n",
    "ax.set_xlabel('size')\n",
    "ax.set_ylabel('Progressed Category')\n",
    "ax.set_title('Scatter Plot of Size vs Progressed Category')\n",
    "ax.legend()\n",
    "plt.show()"
   ]
  },
  {
   "cell_type": "markdown",
   "metadata": {},
   "source": [
    "- higher better"
   ]
  },
  {
   "cell_type": "markdown",
   "metadata": {},
   "source": [
    "- melt_sol_polar_ratio includes lots of 0 values"
   ]
  },
  {
   "cell_type": "code",
   "execution_count": 25,
   "metadata": {},
   "outputs": [],
   "source": [
    "X = data_f.drop(multi_target + inputs_unavailable).to_pandas()\n",
    "y = data_f[multi_target].drop_nulls().to_pandas()\n",
    "\n",
    "X_tr, X_ts, y_tr, y_ts = train_test_split(X, y, test_size=0.20, random_state=42)"
   ]
  },
  {
   "cell_type": "code",
   "execution_count": 26,
   "metadata": {},
   "outputs": [
    {
     "data": {
      "text/plain": [
       "0.6731515716176449"
      ]
     },
     "execution_count": 26,
     "metadata": {},
     "output_type": "execute_result"
    }
   ],
   "source": [
    "reg_rf_multioutput.fit(X_tr, y_tr)\n",
    "reg_rf_multioutput.score(X_ts, y_ts)"
   ]
  },
  {
   "cell_type": "code",
   "execution_count": 27,
   "metadata": {},
   "outputs": [],
   "source": [
    "# y_pred = reg_rf_multioutput.predict(X_ts)"
   ]
  },
  {
   "cell_type": "code",
   "execution_count": 28,
   "metadata": {},
   "outputs": [],
   "source": [
    "# X_tr.columns"
   ]
  },
  {
   "cell_type": "code",
   "execution_count": 29,
   "metadata": {},
   "outputs": [],
   "source": [
    "# y_tr.columns"
   ]
  },
  {
   "cell_type": "code",
   "execution_count": 30,
   "metadata": {},
   "outputs": [],
   "source": [
    "# predictions = pl.from_numpy(y_pred, schema=multi_target)"
   ]
  },
  {
   "cell_type": "markdown",
   "metadata": {},
   "source": [
    "#### Save the best model"
   ]
  },
  {
   "cell_type": "markdown",
   "metadata": {},
   "source": [
    "We will save the best performing model to a file for future use."
   ]
  },
  {
   "cell_type": "code",
   "execution_count": 31,
   "metadata": {},
   "outputs": [],
   "source": [
    "# X_tr.columns"
   ]
  },
  {
   "cell_type": "code",
   "execution_count": 32,
   "metadata": {},
   "outputs": [],
   "source": [
    "# pickle.dump(reg_rf_multioutput, open('../../models/multi_output_model.pkl', 'wb'))"
   ]
  }
 ],
 "metadata": {
  "kernelspec": {
   "display_name": "sedds",
   "language": "python",
   "name": "sedds"
  },
  "language_info": {
   "codemirror_mode": {
    "name": "ipython",
    "version": 3
   },
   "file_extension": ".py",
   "mimetype": "text/x-python",
   "name": "python",
   "nbconvert_exporter": "python",
   "pygments_lexer": "ipython3",
   "version": "3.12.2"
  }
 },
 "nbformat": 4,
 "nbformat_minor": 2
}
